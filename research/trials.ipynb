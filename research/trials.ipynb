{
 "cells": [
  {
   "cell_type": "code",
   "execution_count": 3,
   "metadata": {},
   "outputs": [
    {
     "name": "stdout",
     "output_type": "stream",
     "text": [
      "Collecting gdown\n",
      "  Using cached https://files.pythonhosted.org/packages/e7/38/e3393edb5fd157abaa54292f31251f8c2ff739673f535990f8a43e69b9dd/gdown-4.7.1-py3-none-any.whl\n",
      "Requirement already satisfied: tqdm in d:\\visual studio 2019\\mlops\\chest cancer detection suing mlflow and dvc\\.venv\\lib\\site-packages (from gdown) (4.66.1)\n",
      "Requirement already satisfied: requests[socks] in d:\\visual studio 2019\\mlops\\chest cancer detection suing mlflow and dvc\\.venv\\lib\\site-packages (from gdown) (2.31.0)\n",
      "Collecting filelock (from gdown)\n",
      "  Using cached https://files.pythonhosted.org/packages/81/54/84d42a0bee35edba99dee7b59a8d4970eccdd44b99fe728ed912106fc781/filelock-3.13.1-py3-none-any.whl\n",
      "Collecting beautifulsoup4 (from gdown)\n",
      "  Using cached https://files.pythonhosted.org/packages/57/f4/a69c20ee4f660081a7dedb1ac57f29be9378e04edfcb90c526b923d4bebc/beautifulsoup4-4.12.2-py3-none-any.whl\n",
      "Requirement already satisfied: six in d:\\visual studio 2019\\mlops\\chest cancer detection suing mlflow and dvc\\.venv\\lib\\site-packages (from gdown) (1.16.0)\n",
      "Requirement already satisfied: colorama; platform_system == \"Windows\" in d:\\visual studio 2019\\mlops\\chest cancer detection suing mlflow and dvc\\.venv\\lib\\site-packages (from tqdm->gdown) (0.4.6)\n",
      "Requirement already satisfied: urllib3<3,>=1.21.1 in d:\\visual studio 2019\\mlops\\chest cancer detection suing mlflow and dvc\\.venv\\lib\\site-packages (from requests[socks]->gdown) (2.1.0)\n",
      "Requirement already satisfied: certifi>=2017.4.17 in d:\\visual studio 2019\\mlops\\chest cancer detection suing mlflow and dvc\\.venv\\lib\\site-packages (from requests[socks]->gdown) (2023.11.17)\n",
      "Requirement already satisfied: charset-normalizer<4,>=2 in d:\\visual studio 2019\\mlops\\chest cancer detection suing mlflow and dvc\\.venv\\lib\\site-packages (from requests[socks]->gdown) (3.3.2)\n",
      "Requirement already satisfied: idna<4,>=2.5 in d:\\visual studio 2019\\mlops\\chest cancer detection suing mlflow and dvc\\.venv\\lib\\site-packages (from requests[socks]->gdown) (3.6)\n",
      "Collecting PySocks!=1.5.7,>=1.5.6; extra == \"socks\" (from requests[socks]->gdown)\n",
      "  Using cached https://files.pythonhosted.org/packages/8d/59/b4572118e098ac8e46e399a1dd0f2d85403ce8bbaad9ec79373ed6badaf9/PySocks-1.7.1-py3-none-any.whl\n",
      "Collecting soupsieve>1.2 (from beautifulsoup4->gdown)\n",
      "  Using cached https://files.pythonhosted.org/packages/4c/f3/038b302fdfbe3be7da016777069f26ceefe11a681055ea1f7817546508e3/soupsieve-2.5-py3-none-any.whl\n",
      "Installing collected packages: filelock, soupsieve, beautifulsoup4, gdown, PySocks\n",
      "Successfully installed PySocks-1.7.1 beautifulsoup4-4.12.2 filelock-3.13.1 gdown-4.7.1 soupsieve-2.5\n",
      "Note: you may need to restart the kernel to use updated packages.\n"
     ]
    },
    {
     "name": "stderr",
     "output_type": "stream",
     "text": [
      "WARNING: You are using pip version 19.2.3, however version 23.3.1 is available.\n",
      "You should consider upgrading via the 'python -m pip install --upgrade pip' command.\n"
     ]
    }
   ],
   "source": [
    "pip install gdown"
   ]
  },
  {
   "cell_type": "code",
   "execution_count": 4,
   "metadata": {},
   "outputs": [],
   "source": [
    "import gdown  # to download data from google drive"
   ]
  },
  {
   "cell_type": "code",
   "execution_count": 5,
   "metadata": {},
   "outputs": [],
   "source": [
    "# url=\"google drive link with the files to be downloaded\"\n",
    "url=\"https://drive.google.com/file/d/1_TXlYEi89zDKYO84Pj0_IRHolN-HTy3N/view?usp=sharing\"\n",
    "file_id=url.split(\"/\")[-2]\n",
    "# 1_TXlYEi89zDKYO84Pj0_IRHolN-HTy3N is the file_id\n"
   ]
  },
  {
   "cell_type": "code",
   "execution_count": 6,
   "metadata": {},
   "outputs": [
    {
     "name": "stderr",
     "output_type": "stream",
     "text": [
      "Downloading...\n",
      "From: https://drive.google.com/uc?/export=download&id=1_TXlYEi89zDKYO84Pj0_IRHolN-HTy3N\n",
      "To: d:\\Visual Studio 2019\\MLops\\Chest Cancer Detection suing MLFlow and DVC\\research\\Chest-CT-Scan-data.zip\n",
      "100%|██████████| 27.5M/27.5M [00:08<00:00, 3.24MB/s]\n"
     ]
    },
    {
     "data": {
      "text/plain": [
       "'Chest-CT-Scan-data.zip'"
      ]
     },
     "execution_count": 6,
     "metadata": {},
     "output_type": "execute_result"
    }
   ],
   "source": [
    "prefix_url=\"https://drive.google.com/uc?/export=download&id=\"\n",
    "gdown.download(prefix_url+file_id,\"Chest-CT-Scan-data.zip\") # name of the file to be downloaded\n",
    " "
   ]
  },
  {
   "cell_type": "code",
   "execution_count": null,
   "metadata": {},
   "outputs": [],
   "source": []
  }
 ],
 "metadata": {
  "kernelspec": {
   "display_name": ".venv",
   "language": "python",
   "name": "python3"
  },
  "language_info": {
   "codemirror_mode": {
    "name": "ipython",
    "version": 3
   },
   "file_extension": ".py",
   "mimetype": "text/x-python",
   "name": "python",
   "nbconvert_exporter": "python",
   "pygments_lexer": "ipython3",
   "version": "3.8.1"
  }
 },
 "nbformat": 4,
 "nbformat_minor": 2
}
